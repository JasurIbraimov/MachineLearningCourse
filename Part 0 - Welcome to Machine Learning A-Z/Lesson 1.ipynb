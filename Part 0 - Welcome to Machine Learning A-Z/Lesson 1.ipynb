{
 "cells": [
  {
   "cell_type": "markdown",
   "id": "d3063a02",
   "metadata": {},
   "source": [
    "### The machine learning process\n",
    "#### Data Pre-processing\n",
    "- Import the data\n",
    "- Clean the data \n",
    "- Split into training & test sets\n",
    "\n",
    "#### Modelling \n",
    "- Build the model\n",
    "- Train the model \n",
    "- Make predictions \n",
    "\n",
    "#### Evaluation \n",
    "- Calculate performance metrics\n",
    "- Make a verdict"
   ]
  },
  {
   "cell_type": "code",
   "execution_count": null,
   "id": "98e50af7",
   "metadata": {},
   "outputs": [],
   "source": []
  }
 ],
 "metadata": {
  "kernelspec": {
   "display_name": "Python 3 (ipykernel)",
   "language": "python",
   "name": "python3"
  },
  "language_info": {
   "codemirror_mode": {
    "name": "ipython",
    "version": 3
   },
   "file_extension": ".py",
   "mimetype": "text/x-python",
   "name": "python",
   "nbconvert_exporter": "python",
   "pygments_lexer": "ipython3",
   "version": "3.11.0"
  }
 },
 "nbformat": 4,
 "nbformat_minor": 5
}
